{
 "cells": [
  {
   "cell_type": "markdown",
   "metadata": {},
   "source": [
    "# VacationPy\n",
    "----\n",
    "\n",
    "#### Note\n",
    "* Instructions have been included for each segment. You do not have to follow them exactly, but they are included to help you think through the steps."
   ]
  },
  {
   "cell_type": "code",
   "execution_count": null,
   "metadata": {},
   "outputs": [],
   "source": [
    "# Dependencies and Setup\n",
    "import matplotlib.pyplot as plt\n",
    "import pandas as pd\n",
    "import numpy as np\n",
    "import requests\n",
    "import gmaps\n",
    "import os\n",
    "\n",
    "# Import API key\n",
    "from api_keys import g_key\n",
    "from api_keys import weather_api_key"
   ]
  },
  {
   "cell_type": "code",
   "execution_count": null,
   "metadata": {},
   "outputs": [],
   "source": [
    "# output_data_file = \"starter_code/city_df.csv\"\n",
    "# cityDF = pd.read_csv(output_data_file)\n",
    "# ^^ not sure why this wasnt working ^^\n",
    "\n",
    "url = \"http://api.openweathermap.org/data/2.5/weather?\"\n",
    "units = \"metric\"\n",
    "query_url = f\"{url}appid={weather_api_key}&units={units}&q=\"\n",
    "\n",
    "city_list = [\"Rome\", \"Paris\", \"London\", \"Miami\", \"Sur\",  'airai', 'victoria',\n",
    " 'faanui','jiayuguan','kodiak','kruisfontein','ushuaia', 'kharp',  'busselton','yellowknife',\n",
    " 'mata','tuktoyaktuk','stornoway','arraial do cabo','guerrero negro','pavlovsk','saldanha','bluff',\n",
    " 'makakilo city','lere','cape town','astana','grindavik','amstetten',\n",
    " \"Newark\", \"Chicago\", \"Florence\", \"Nice\", \"Toronto\", \"Accra\", \"Boke\", \"Cape Town\", \"Buenos Aires\", \"Lima\",\n",
    " \"Cartagena\", \"Mumbai\", \"Kabul\", \"Karachi\", \"Hanoi\", \"Kuala Lumpur\", \"Jakarta\", \"Manila\", \"Wellington\",\n",
    " \"Sydney\", \"Melbourne\", \"Auckland\", \"Suva\", \"Anchorage\", \"Moscow\", \"Helsinki\", \"Tallinn\"]\n",
    "\n",
    "# had to create my own list because when I was using the varibale 'cities' defined above it was not working\n",
    "# and the tutor couldnt figure out why\n",
    "\n",
    "lat = []\n",
    "lng = []\n",
    "temp = []\n",
    "cloud = []\n",
    "wind_speed = []\n",
    "hum = []\n",
    "\n",
    "for city in city_list:\n",
    "    response = requests.get(query_url + city).json()\n",
    "    lat.append(response[\"coord\"]['lat'])\n",
    "    lng.append(response[\"coord\"]['lon'])\n",
    "    temp.append(response[\"main\"]['temp']*1.8+32)\n",
    "    cloud.append(response[\"clouds\"][\"all\"])\n",
    "    wind_speed.append(response[\"wind\"][\"speed\"])\n",
    "    hum.append(response[\"main\"][\"humidity\"])\n",
    "    \n",
    "city_df = pd.DataFrame({\n",
    "    \"city\": city_list,\n",
    "    \"latitude\":lat,\n",
    "    \"longitude\": lng,\n",
    "    \"temp\": temp,\n",
    "    \"cloudiness\": cloud,\n",
    "    \"wind speed\": wind_speed,\n",
    "    \"humidity\":  hum\n",
    "})\n",
    "city_df.to_csv(\"city_df.csv\")\n",
    "city_df.head()"
   ]
  },
  {
   "cell_type": "markdown",
   "metadata": {},
   "source": [
    "### Humidity Heatmap\n",
    "* Configure gmaps.\n",
    "* Use the Lat and Lng as locations and Humidity as the weight.\n",
    "* Add Heatmap layer to map."
   ]
  },
  {
   "cell_type": "markdown",
   "metadata": {},
   "source": [
    "### Store Part I results into DataFrame\n",
    "* Load the csv exported in Part I to a DataFrame"
   ]
  },
  {
   "cell_type": "code",
   "execution_count": null,
   "metadata": {},
   "outputs": [],
   "source": [
    "locations = city_df[[\"latitude\", \"longitude\"]]\n",
    "humidity = city_df[\"humidity\"]"
   ]
  },
  {
   "cell_type": "code",
   "execution_count": null,
   "metadata": {},
   "outputs": [],
   "source": [
    "fig = gmaps.figure()\n",
    "\n",
    "# Create heat layer\n",
    "\n",
    "heat_layer = gmaps.heatmap_layer(locations, weights=humidity,\n",
    "                                dissipating=False, max_intensity=10,\n",
    "                                point_radius=1)\n",
    "\n",
    "# add layer\n",
    "\n",
    "fig.add_layer(heat_layer)\n",
    "\n",
    "#display figure\n",
    "fig"
   ]
  },
  {
   "cell_type": "markdown",
   "metadata": {},
   "source": [
    "### Create new DataFrame fitting weather criteria\n",
    "* Narrow down the cities to fit weather conditions.\n",
    "* Drop any rows will null values."
   ]
  },
  {
   "cell_type": "code",
   "execution_count": null,
   "metadata": {},
   "outputs": [],
   "source": [
    "vac = city_df[city_df[\"temp\"] > 70]\n",
    "hotel_df = vac[vac[\"humidity\"] < 75]\n"
   ]
  },
  {
   "cell_type": "markdown",
   "metadata": {},
   "source": [
    "### Hotel Map\n",
    "* Store into variable named `hotel_df`.\n",
    "* Add a \"Hotel Name\" column to the DataFrame.\n",
    "* Set parameters to search for hotels with 5000 meters.\n",
    "* Hit the Google Places API for each city's coordinates.\n",
    "* Store the first Hotel result into the DataFrame.\n",
    "* Plot markers on top of the heatmap."
   ]
  },
  {
   "cell_type": "code",
   "execution_count": null,
   "metadata": {},
   "outputs": [],
   "source": [
    "hotel_df[\"hotel name\"] = \"\"\n",
    "hotel_df"
   ]
  },
  {
   "cell_type": "code",
   "execution_count": null,
   "metadata": {},
   "outputs": [],
   "source": [
    "base_url = \"https://maps.googleapis.com/maps/api/place/nearbysearch/json\"\n",
    "params = {\n",
    "    \"radius\": 5000,\n",
    "    \"type\": \"lodging\",\n",
    "    \"key\": g_key,\n",
    "}\n",
    "# use iterrows to iterate through pandas dataframe\n",
    "for index, row in hotel_df.iterrows():\n",
    "\n",
    "    # get restaurant type from df\n",
    "    city_name = row['city']\n",
    "    lat = row[\"latitude\"]\n",
    "    lng = row[\"longitude\"]\n",
    "    # add keyword to params dict\n",
    "    params['location']= f'{lat},{lng}'\n",
    "\n",
    "    # assemble url and make API request\n",
    "    print(f\"Retrieving Results for Index {index}: {city_name}.\")\n",
    "    response = requests.get(base_url, params=params).json()\n",
    "    #pprint(response)\n",
    "    hotel_df.loc[index,'hotel name'] = response[\"results\"][0]['name']\n",
    "\n"
   ]
  },
  {
   "cell_type": "code",
   "execution_count": null,
   "metadata": {},
   "outputs": [],
   "source": [
    "hotel_df.dropna(inplace=True)\n",
    "hotel_df"
   ]
  },
  {
   "cell_type": "code",
   "execution_count": null,
   "metadata": {},
   "outputs": [],
   "source": [
    "# NOTE: Do not change any of the code in this cell\n",
    "\n",
    "# Using the template add the hotel marks to the heatmap\n",
    "info_box_template = \"\"\"\n",
    "<dl>\n",
    "<dt>Name</dt><dd>{Hotel Name}</dd>\n",
    "<dt>City</dt><dd>{City}</dd>\n",
    "<dt>Country</dt><dd>{Country}</dd>\n",
    "</dl>\n",
    "\"\"\"\n",
    "# Store the DataFrame Row\n",
    "# NOTE: be sure to update with your DataFrame name\n",
    "hotel_info = [info_box_template.format(**row) for index, row in hotel_df.iterrows()]\n",
    "locations = hotel_df[[\"latitude\", \"longitude\"]]"
   ]
  },
  {
   "cell_type": "code",
   "execution_count": null,
   "metadata": {},
   "outputs": [],
   "source": [
    "# Add marker layer ontop of heat map\n",
    "locations = hotel_df[[\"latitude\", \"longitude\"]]\n",
    "hotels = hotel_df[\"humidity\"]\n",
    "\n",
    "# Display figure\n",
    "fig = gmaps.figure()\n",
    "\n",
    "# Create heat layer\n",
    "\n",
    "heat_layer = gmaps.heatmap_layer(locations, weights=hotels,\n",
    "                                dissipating=False, max_intensity=10,\n",
    "                                point_radius=1)\n",
    "\n",
    "# add layer\n",
    "\n",
    "fig.add_layer(heat_layer)\n",
    "\n",
    "#display figure\n",
    "fig"
   ]
  },
  {
   "cell_type": "code",
   "execution_count": null,
   "metadata": {},
   "outputs": [],
   "source": []
  }
 ],
 "metadata": {
  "kernelspec": {
   "display_name": "Python 3",
   "language": "python",
   "name": "python3"
  },
  "language_info": {
   "codemirror_mode": {
    "name": "ipython",
    "version": 3
   },
   "file_extension": ".py",
   "mimetype": "text/x-python",
   "name": "python",
   "nbconvert_exporter": "python",
   "pygments_lexer": "ipython3",
   "version": "3.7.6"
  },
  "latex_envs": {
   "LaTeX_envs_menu_present": true,
   "autoclose": false,
   "autocomplete": true,
   "bibliofile": "biblio.bib",
   "cite_by": "apalike",
   "current_citInitial": 1,
   "eqLabelWithNumbers": true,
   "eqNumInitial": 1,
   "hotkeys": {
    "equation": "Ctrl-E",
    "itemize": "Ctrl-I"
   },
   "labels_anchors": false,
   "latex_user_defs": false,
   "report_style_numbering": false,
   "user_envs_cfg": false
  }
 },
 "nbformat": 4,
 "nbformat_minor": 2
}
